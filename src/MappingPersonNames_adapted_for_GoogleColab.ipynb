{
  "cells": [
    {
      "cell_type": "markdown",
      "metadata": {
        "id": "view-in-github",
        "colab_type": "text"
      },
      "source": [
        "<a href=\"https://colab.research.google.com/github/lilimelgar/mappingPersonNames/blob/main/src/MappingPersonNames_adapted_for_GoogleColab.ipynb\" target=\"_parent\"><img src=\"https://colab.research.google.com/assets/colab-badge.svg\" alt=\"Open In Colab\"/></a>"
      ]
    },
    {
      "cell_type": "markdown",
      "metadata": {
        "id": "leDMVIWuptlN"
      },
      "source": [
        "**Script to map two lists of person names**\n",
        "\n",
        "This notebook contains the steps for mapping two lists of person names (ListA and ListB) and gives as a result a list of possible candidates with scores.\n",
        "\n",
        "This script is written by Liliana Melgar-Estrada for the SKILLNET PROJECT (https://skillnet.nl/)\n",
        "\n",
        "Last update: June 17, 2022"
      ]
    },
    {
      "cell_type": "markdown",
      "metadata": {
        "id": "aUoDUEnAptlR"
      },
      "source": [
        "# Data preparation (externally, before importing)"
      ]
    },
    {
      "cell_type": "markdown",
      "metadata": {
        "id": "i140aNvWptlS"
      },
      "source": [
        "Please read the instructions for data preparation in the \"read.me\" file in the Github repository: https://github.com/lilimelgar/mappingPersonNames/blob/main/README.md"
      ]
    },
    {
      "cell_type": "markdown",
      "metadata": {
        "id": "KiauVwvkptlS"
      },
      "source": [
        "# Import libraries"
      ]
    },
    {
      "cell_type": "code",
      "source": [
        "pip install fuzzywuzzy"
      ],
      "metadata": {
        "id": "cEmM8hEYqGdx",
        "outputId": "c33bc034-9263-436a-a803-2c858e23060c",
        "colab": {
          "base_uri": "https://localhost:8080/"
        }
      },
      "execution_count": 1,
      "outputs": [
        {
          "output_type": "stream",
          "name": "stdout",
          "text": [
            "Looking in indexes: https://pypi.org/simple, https://us-python.pkg.dev/colab-wheels/public/simple/\n",
            "Collecting fuzzywuzzy\n",
            "  Downloading fuzzywuzzy-0.18.0-py2.py3-none-any.whl (18 kB)\n",
            "Installing collected packages: fuzzywuzzy\n",
            "Successfully installed fuzzywuzzy-0.18.0\n"
          ]
        }
      ]
    },
    {
      "cell_type": "code",
      "source": [
        "pip install python-Levenshtein"
      ],
      "metadata": {
        "id": "hJ_gmEDTqUih",
        "outputId": "2dab4f00-0815-46d4-c3de-a732ae8a180f",
        "colab": {
          "base_uri": "https://localhost:8080/"
        }
      },
      "execution_count": 2,
      "outputs": [
        {
          "output_type": "stream",
          "name": "stdout",
          "text": [
            "Looking in indexes: https://pypi.org/simple, https://us-python.pkg.dev/colab-wheels/public/simple/\n",
            "Collecting python-Levenshtein\n",
            "  Downloading python_Levenshtein-0.20.8-py3-none-any.whl (9.4 kB)\n",
            "Collecting Levenshtein==0.20.8\n",
            "  Downloading Levenshtein-0.20.8-cp38-cp38-manylinux_2_17_x86_64.manylinux2014_x86_64.whl (174 kB)\n",
            "\u001b[K     |████████████████████████████████| 174 kB 4.8 MB/s \n",
            "\u001b[?25hCollecting rapidfuzz<3.0.0,>=2.3.0\n",
            "  Downloading rapidfuzz-2.13.7-cp38-cp38-manylinux_2_17_x86_64.manylinux2014_x86_64.whl (2.2 MB)\n",
            "\u001b[K     |████████████████████████████████| 2.2 MB 44.0 MB/s \n",
            "\u001b[?25hInstalling collected packages: rapidfuzz, Levenshtein, python-Levenshtein\n",
            "Successfully installed Levenshtein-0.20.8 python-Levenshtein-0.20.8 rapidfuzz-2.13.7\n"
          ]
        }
      ]
    },
    {
      "cell_type": "markdown",
      "source": [
        "# Upload the \"data\" directory of the Github repository to your own Google Drive\n",
        "The data directory is here: https://github.com/lilimelgar/mappingPersonNames/tree/main/data\n",
        "You should upload it with the same folder structure."
      ],
      "metadata": {
        "id": "dBcD6Rnjqk0Z"
      }
    },
    {
      "cell_type": "code",
      "source": [
        "from google.colab import drive\n",
        "drive.mount('/content/drive')"
      ],
      "metadata": {
        "id": "bg7NTClWqdPg",
        "outputId": "7f03c6f6-2462-4c4c-e3c8-37fcd0f39abe",
        "colab": {
          "base_uri": "https://localhost:8080/"
        }
      },
      "execution_count": 5,
      "outputs": [
        {
          "output_type": "stream",
          "name": "stdout",
          "text": [
            "Drive already mounted at /content/drive; to attempt to forcibly remount, call drive.mount(\"/content/drive\", force_remount=True).\n"
          ]
        }
      ]
    },
    {
      "cell_type": "code",
      "execution_count": 6,
      "metadata": {
        "id": "dMuALVLYptlT"
      },
      "outputs": [],
      "source": [
        "import matplotlib\n",
        "import pandas as pd\n",
        "import numpy as np\n",
        "import re\n",
        "import os\n",
        "import fuzzywuzzy\n",
        "from fuzzywuzzy import fuzz\n",
        "from fuzzywuzzy import process\n",
        "# import jellyfish\n",
        "\n",
        "from IPython.display import display\n",
        "from IPython.display import clear_output\n",
        "\n",
        "import csv\n",
        "\n",
        "from IPython.display import display, HTML\n",
        "# display(HTML(\"<style>.container { width:95% !important; }</style>\"))\n",
        "# pd.options.display.max_columns = 10\n",
        "pd.options.display.max_rows = 1000\n",
        "# pd.options.display.width = 1000\n",
        "\n",
        "# to add timestamp to file names\n",
        "import time\n",
        "\n",
        "# for progress bar (https://datascientyst.com/progress-bars-pandas-python-tqdm/)\n",
        "from tqdm import tqdm\n",
        "from time import sleep"
      ]
    },
    {
      "cell_type": "markdown",
      "metadata": {
        "id": "7W2aOzTHptlV"
      },
      "source": [
        "# Import files"
      ]
    },
    {
      "cell_type": "markdown",
      "metadata": {
        "id": "biwU74GSptlV"
      },
      "source": [
        "## Set data directories"
      ]
    },
    {
      "cell_type": "code",
      "execution_count": null,
      "metadata": {
        "id": "-1AhKIMxptlW"
      },
      "outputs": [],
      "source": [
        "# Test data is located in the repository folder indicated in the path here\n",
        "# this is the local path to the raw data in your own computer to where you downloaded/cloned the repository\n",
        "data_directory = os.path.abspath(os.path.join('..', 'data'))\n",
        "data_raw_directory = os.path.join(data_directory, 'raw')\n",
        "data_processed_directory = os.path.join(data_directory, 'processed')\n",
        "data_temp_directory = os.path.join(data_directory, 'temp')"
      ]
    },
    {
      "cell_type": "markdown",
      "metadata": {
        "id": "dc4JIVf2ptlW"
      },
      "source": [
        "## Import ListA"
      ]
    },
    {
      "cell_type": "markdown",
      "metadata": {
        "id": "VBIC4-XDptlX"
      },
      "source": [
        "For the test version, ListA contains unique names from the Catalogus Epistolarum Neerlandicarum (CEN) extracted from a slice of correspondents from van Leeuwenhoek and Swammerdam (internal note: cy08)."
      ]
    },
    {
      "cell_type": "code",
      "execution_count": null,
      "metadata": {
        "id": "odvHTtg4ptlY"
      },
      "outputs": [],
      "source": [
        "# Import here the first file (ListA), this is the names you want to map the other list to.\n",
        "# the list is imported as a pandas dataframe\n",
        "list_a_path = os.path.join(data_raw_directory, 'ListA.csv')\n",
        "dfA_t0 = pd.read_csv(list_a_path, sep = \",\", index_col=False, engine='python')"
      ]
    },
    {
      "cell_type": "code",
      "execution_count": null,
      "metadata": {
        "id": "9Brw7TEhptlY"
      },
      "outputs": [],
      "source": [
        "dfA_t0.info()"
      ]
    },
    {
      "cell_type": "markdown",
      "metadata": {
        "id": "_fgvYZG6ptlY"
      },
      "source": [
        "## Import list to map to (LIST B)"
      ]
    },
    {
      "cell_type": "markdown",
      "metadata": {
        "id": "VaM567VfptlY"
      },
      "source": [
        "For the test version, ListB contains unique names from the Epistolarium (http://ckcc.huygens.knaw.nl/epistolarium/)  (internal note: cy13)."
      ]
    },
    {
      "cell_type": "code",
      "execution_count": null,
      "metadata": {
        "id": "aSy1vB7nptlY"
      },
      "outputs": [],
      "source": [
        "# Import here the second file (ListB), these are the names you want to map (find a match) to the initial list.\n",
        "# the list is imported as a pandas dataframe\n",
        "list_b_path = os.path.join(data_raw_directory, 'ListB.csv')\n",
        "dfB_t0 = pd.read_csv(list_b_path, sep = \",\", index_col=False, engine='python')"
      ]
    },
    {
      "cell_type": "code",
      "execution_count": null,
      "metadata": {
        "id": "q_d8szU2ptlZ"
      },
      "outputs": [],
      "source": [
        "dfB_t0.info()"
      ]
    },
    {
      "cell_type": "markdown",
      "metadata": {
        "id": "xU36_cO2ptlZ"
      },
      "source": [
        "# Prepare ListA and ListB"
      ]
    },
    {
      "cell_type": "markdown",
      "metadata": {
        "id": "wHPPNrXaptlZ"
      },
      "source": [
        "In this step the data is prepared for the mappings (reassigning column names and changing data types in case they were not the right ones)"
      ]
    },
    {
      "cell_type": "markdown",
      "metadata": {
        "id": "Lfz89mNSptlZ"
      },
      "source": [
        "## Prepare ListA"
      ]
    },
    {
      "cell_type": "code",
      "execution_count": null,
      "metadata": {
        "id": "6EVg_GPDptlZ"
      },
      "outputs": [],
      "source": [
        "# assign column names\n",
        "dfA_t0.columns = ['personIdA',\n",
        "                   'nameStringA',\n",
        "                   'dateBirthA', \n",
        "                   'dateDeathA', \n",
        "                   'dateFlA'\n",
        "                   ]"
      ]
    },
    {
      "cell_type": "code",
      "execution_count": null,
      "metadata": {
        "id": "BpK0dk-8ptla"
      },
      "outputs": [],
      "source": [
        "# make a copy of the dataframe and rename it\n",
        "dfA = dfA_t0.reset_index(drop=True)"
      ]
    },
    {
      "cell_type": "code",
      "execution_count": null,
      "metadata": {
        "id": "mL64YAxjptla"
      },
      "outputs": [],
      "source": [
        "# convert datatypes and fill in empty values\n",
        "dfA_columns = dfA.columns\n",
        "for column in dfA_columns:\n",
        "    dataType = dfA.dtypes[column]\n",
        "    if dataType == np.float64:\n",
        "        dfA[column] = dfA[column].fillna(0.0)\n",
        "        dfA[column] = dfA[column].astype(int)\n",
        "    if dataType == object:\n",
        "        dfA[column] = dfA[column].fillna('null')\n",
        "        dfA[column] = dfA[column].astype(str)"
      ]
    },
    {
      "cell_type": "code",
      "execution_count": null,
      "metadata": {
        "id": "9djLowgbptla"
      },
      "outputs": [],
      "source": [
        "dfA.info()"
      ]
    },
    {
      "cell_type": "code",
      "execution_count": null,
      "metadata": {
        "id": "P9LX-XZDptla"
      },
      "outputs": [],
      "source": [
        "dfA.head(10)"
      ]
    },
    {
      "cell_type": "markdown",
      "metadata": {
        "id": "rHP6p_59ptla"
      },
      "source": [
        "## Prepare ListB"
      ]
    },
    {
      "cell_type": "code",
      "execution_count": null,
      "metadata": {
        "id": "_Cas7taKptla"
      },
      "outputs": [],
      "source": [
        "# assign column names\n",
        "dfB_t0.columns = [\n",
        "                   'personIdB',\n",
        "                   'nameStringB', \n",
        "                   'dateBirthB', \n",
        "                   'dateDeathB', \n",
        "                   'dateFlB',\n",
        "                   ]"
      ]
    },
    {
      "cell_type": "code",
      "execution_count": null,
      "metadata": {
        "id": "2009qPHkptlb"
      },
      "outputs": [],
      "source": [
        "# make a copy of the dataframe and rename it\n",
        "dfB = dfB_t0.reset_index(drop=True).copy()"
      ]
    },
    {
      "cell_type": "code",
      "execution_count": null,
      "metadata": {
        "id": "JuayEW85ptlb"
      },
      "outputs": [],
      "source": [
        "# convert datatypes and fill in empty values\n",
        "dfB_columns = dfB.columns\n",
        "for column in dfB_columns:\n",
        "    dataType = dfB.dtypes[column]\n",
        "    if dataType == np.float64:\n",
        "        dfB[column] = dfB[column].fillna(0.0)\n",
        "        dfB[column] = dfB[column].astype(int)\n",
        "    if dataType == object:\n",
        "        dfB[column] = dfB[column].fillna('null')\n",
        "        dfB[column] = dfB[column].astype(str)"
      ]
    },
    {
      "cell_type": "code",
      "execution_count": null,
      "metadata": {
        "id": "DENcjcphptlb"
      },
      "outputs": [],
      "source": [
        "dfB.info()"
      ]
    },
    {
      "cell_type": "code",
      "execution_count": null,
      "metadata": {
        "id": "YwpyaVQTptlb"
      },
      "outputs": [],
      "source": [
        "dfB.head(10)"
      ]
    },
    {
      "cell_type": "markdown",
      "metadata": {
        "id": "-VR2bhpGptlb"
      },
      "source": [
        "## Store listA and listB for future reference"
      ]
    },
    {
      "cell_type": "code",
      "execution_count": null,
      "metadata": {
        "id": "Yy8mXJdBptlb"
      },
      "outputs": [],
      "source": [
        "# this inserts the timestamp in the file name\n",
        "timestr = time.strftime(\"%Y%m%d-%H%M%S\")\n",
        "\n",
        "fileListA = (f\"{data_temp_directory}/ListA_{timestr}.csv\")\n",
        "dfA.to_csv(fileListA)\n",
        "\n",
        "fileListB = (f\"{data_temp_directory}/ListB_{timestr}.csv\")\n",
        "dfB.to_csv(fileListB)"
      ]
    },
    {
      "cell_type": "markdown",
      "metadata": {
        "id": "xGWRIrWfptlb"
      },
      "source": [
        "## Create a dataframe to store the mappings"
      ]
    },
    {
      "cell_type": "markdown",
      "metadata": {
        "id": "M9eyidAHptlb"
      },
      "source": [
        "# Run mapping script"
      ]
    },
    {
      "cell_type": "markdown",
      "metadata": {
        "id": "2pgVSn9Xptlb"
      },
      "source": [
        "Here below there is the mapping script that will compare the names in listB with the names in listA checkign if the name string matches and, if so, it applies some rules to determine if the respective dates of birth/death/fl. have a logical relation. If so, a mapping candidate is added to the dataframe C.\n",
        "\n",
        "This script is also stored separately here: \n",
        "\n",
        "The counter shows:\n",
        "|percentage done|items processed/total items \\[time passed < time left, number of iterations per second\\]"
      ]
    },
    {
      "cell_type": "code",
      "execution_count": null,
      "metadata": {
        "id": "jDdkYIjPptlc"
      },
      "outputs": [],
      "source": [
        "mapped_candidates = compare_names(dfA, dfB)\n",
        "\n",
        "# if you want to use different buffers, overwrite them\n",
        "# mapped_candidates_buffer = compare_names(dfA, dfB, buf4 =8)"
      ]
    },
    {
      "cell_type": "code",
      "execution_count": null,
      "metadata": {
        "id": "RMFHYjs-ptlc"
      },
      "outputs": [],
      "source": [
        "mapped_candidates.info()"
      ]
    },
    {
      "cell_type": "code",
      "execution_count": null,
      "metadata": {
        "id": "Wl-Zrsltptlc"
      },
      "outputs": [],
      "source": [
        "mapped_candidates.head(5)"
      ]
    },
    {
      "cell_type": "code",
      "execution_count": null,
      "metadata": {
        "id": "r3Zs2QQfptlc"
      },
      "outputs": [],
      "source": [
        "# test = mapped_candidates[mapped_candidates.scoreCase.str.contains('L-')]"
      ]
    },
    {
      "cell_type": "code",
      "execution_count": null,
      "metadata": {
        "id": "3XQ5n_qaptlc"
      },
      "outputs": [],
      "source": [
        "# test"
      ]
    },
    {
      "cell_type": "code",
      "execution_count": null,
      "metadata": {
        "id": "ByUD4AT8ptlc"
      },
      "outputs": [],
      "source": [
        "mapped_candidates.scoreCase.value_counts()"
      ]
    },
    {
      "cell_type": "markdown",
      "metadata": {
        "id": "t-woCNUNptlc"
      },
      "source": [
        "# Prepare mapping output for analysis"
      ]
    },
    {
      "cell_type": "markdown",
      "metadata": {
        "id": "LYIvlUgaptld"
      },
      "source": [
        "#### Replace the .0 in person dates and convert to strings"
      ]
    },
    {
      "cell_type": "code",
      "execution_count": null,
      "metadata": {
        "id": "9bSYEb1Gptld"
      },
      "outputs": [],
      "source": [
        "\n",
        "mapped_candidates['dateBirthA'] = mapped_candidates['dateBirthA'].astype(str).replace('\\.0', '', regex=True)\n",
        "mapped_candidates['dateDeathA'] = mapped_candidates['dateDeathA'].astype(str).replace('\\.0', '', regex=True)\n",
        "mapped_candidates['dateFlA'] = mapped_candidates['dateFlA'].astype(str).replace('\\.0', '', regex=True)\n",
        "mapped_candidates['match_dateBirthB'] = mapped_candidates['match_dateBirthB'].astype(str).replace('\\.0', '', regex=True)\n",
        "mapped_candidates['match_dateDeathB'] = mapped_candidates['match_dateDeathB'].astype(str).replace('\\.0', '', regex=True)\n",
        "mapped_candidates['match_dateFlB'] = mapped_candidates['match_dateFlB'].astype(str).replace('\\.0', '', regex=True)\n"
      ]
    },
    {
      "cell_type": "code",
      "execution_count": null,
      "metadata": {
        "id": "kW_GKQiYptld"
      },
      "outputs": [],
      "source": [
        "mapped_candidates.info()"
      ]
    },
    {
      "cell_type": "markdown",
      "metadata": {
        "id": "Wy03Hlwwptld"
      },
      "source": [
        "#### Create joined / unique names and fill the blanks"
      ]
    },
    {
      "cell_type": "code",
      "execution_count": null,
      "metadata": {
        "id": "19oEdHwYptld"
      },
      "outputs": [],
      "source": [
        "mapped_candidates['JoinedInitial'] = mapped_candidates['nameStringA'] + '^' + mapped_candidates['dateBirthA'] + '^' + mapped_candidates['dateDeathA'] + '^' + mapped_candidates['dateFlA']\n",
        "mapped_candidates['JoinedMapped'] = mapped_candidates['match_nameStringB'] + '^' + mapped_candidates['match_dateBirthB']  + '^' + mapped_candidates['match_dateDeathB'] + '^' + mapped_candidates['match_dateFlB']\n",
        "\n",
        "# Fill in blanks\n",
        "mapped_candidates['JoinedMapped'] = mapped_candidates['JoinedMapped'].fillna('notmapped')"
      ]
    },
    {
      "cell_type": "code",
      "execution_count": null,
      "metadata": {
        "id": "-eDYSb0Aptle"
      },
      "outputs": [],
      "source": [
        "mapped_candidates.head(5)"
      ]
    },
    {
      "cell_type": "code",
      "execution_count": null,
      "metadata": {
        "id": "j4qmCVXtptle"
      },
      "outputs": [],
      "source": [
        "# mapped_candidates.info()"
      ]
    },
    {
      "cell_type": "markdown",
      "metadata": {
        "id": "J8KLd8MUptle"
      },
      "source": [
        "#### Run the second script to detect variation in the mapped forms"
      ]
    },
    {
      "cell_type": "code",
      "execution_count": null,
      "metadata": {
        "id": "7jC6kxbQptle"
      },
      "outputs": [],
      "source": [
        "# Convert these joined names to strings\n",
        "mapped_candidates['JoinedInitial'] = mapped_candidates['JoinedInitial'].astype('string')\n",
        "mapped_candidates['JoinedMapped'] = mapped_candidates['JoinedMapped'].astype('string')"
      ]
    },
    {
      "cell_type": "code",
      "execution_count": null,
      "metadata": {
        "id": "F6JFr2IJptlf"
      },
      "outputs": [],
      "source": [
        "mapped_candidates.info()"
      ]
    },
    {
      "cell_type": "code",
      "execution_count": null,
      "metadata": {
        "id": "DwZVDxImptlf"
      },
      "outputs": [],
      "source": [
        "# create a score to determine how much the initial and the map form of the name (including dates) varies\n",
        "for j in mapped_candidates.index:\n",
        "    clear_output(wait=True)\n",
        "    rowIndex = mapped_candidates.index[j]\n",
        "    initialForm = mapped_candidates.iloc[j,13]\n",
        "    mappedForm = mapped_candidates.iloc[j,14]\n",
        "    matchScoreFinal = fuzz.ratio(initialForm, mappedForm)\n",
        "    print(\"Current progress loop1:\", np.round(j/len(mapped_candidates) *100, 2),\"%\")\n",
        "    if 0 <= matchScoreFinal <=100:\n",
        "        mapped_candidates.loc[rowIndex, 'ScoreMappedVersionsNotChangedis100'] = matchScoreFinal        "
      ]
    },
    {
      "cell_type": "code",
      "execution_count": null,
      "metadata": {
        "id": "3PDmjyowptlf"
      },
      "outputs": [],
      "source": [
        "# mapped_candidates"
      ]
    },
    {
      "cell_type": "code",
      "execution_count": null,
      "metadata": {
        "id": "LJQnOe0yptlf"
      },
      "outputs": [],
      "source": [
        "mapped_candidates.columns"
      ]
    },
    {
      "cell_type": "code",
      "execution_count": null,
      "metadata": {
        "id": "l7uhnwXVptlf"
      },
      "outputs": [],
      "source": [
        "# Reorder the columns in a way that is easier to evaluate mapping\n",
        "\n",
        "dfD = mapped_candidates[['JoinedInitial',\n",
        "        'JoinedMapped',\n",
        "        'personIdA',\n",
        "        'match_personIdB',\n",
        "        'scoreCase',\n",
        "        'scoreType',\n",
        "        'scoreNameString',\n",
        "        'ScoreMappedVersionsNotChangedis100']]\n"
      ]
    },
    {
      "cell_type": "code",
      "execution_count": null,
      "metadata": {
        "id": "PMge5Pn8ptlg"
      },
      "outputs": [],
      "source": [
        "dfD.info()"
      ]
    },
    {
      "cell_type": "code",
      "execution_count": null,
      "metadata": {
        "id": "plL6o8drptlg"
      },
      "outputs": [],
      "source": [
        "dfD.scoreCase.value_counts()"
      ]
    },
    {
      "cell_type": "markdown",
      "metadata": {
        "id": "GvJ61o_Jptlg"
      },
      "source": [
        "# Download the mapping candidates file"
      ]
    },
    {
      "cell_type": "code",
      "execution_count": null,
      "metadata": {
        "id": "-RVbdNS4ptlg"
      },
      "outputs": [],
      "source": [
        "# This file will contain the mapping candidates, which is easier to evaluate externally, e.g., in OpenRefine\n",
        "\n",
        "datasetA = 'ListA' #change list name if wanted\n",
        "datasetB = 'ListB' #change list name if wanted\n",
        "description = '' #add file description if wanted\n",
        "\n",
        "#####bring back dfD\n",
        "timestr = time.strftime(\"%Y%m%d-%H%M%S\")\n",
        "fileNameMappingCandidates = (f\"{data_processed_directory}/MappingsPersonsCandidates_{datasetA}vs{datasetB}_{description}_{timestr}.csv\")\n",
        "dfD.to_csv(fileNameMappingCandidates)"
      ]
    },
    {
      "cell_type": "code",
      "execution_count": null,
      "metadata": {
        "id": "EFF99G-gptlg"
      },
      "outputs": [],
      "source": []
    }
  ],
  "metadata": {
    "kernelspec": {
      "display_name": "Python 3 (ipykernel)",
      "language": "python",
      "name": "python3"
    },
    "language_info": {
      "codemirror_mode": {
        "name": "ipython",
        "version": 3
      },
      "file_extension": ".py",
      "mimetype": "text/x-python",
      "name": "python",
      "nbconvert_exporter": "python",
      "pygments_lexer": "ipython3",
      "version": "3.9.7"
    },
    "toc": {
      "base_numbering": 1,
      "nav_menu": {},
      "number_sections": true,
      "sideBar": true,
      "skip_h1_title": false,
      "title_cell": "Table of Contents",
      "title_sidebar": "Contents",
      "toc_cell": false,
      "toc_position": {
        "height": "calc(100% - 180px)",
        "left": "10px",
        "top": "150px",
        "width": "300px"
      },
      "toc_section_display": true,
      "toc_window_display": true
    },
    "colab": {
      "provenance": [],
      "include_colab_link": true
    }
  },
  "nbformat": 4,
  "nbformat_minor": 0
}
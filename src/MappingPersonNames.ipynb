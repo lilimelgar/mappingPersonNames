{
 "cells": [
  {
   "cell_type": "markdown",
   "metadata": {},
   "source": [
    "**Script to map two lists of person names**\n",
    "\n",
    "This notebook contains the steps for mapping two lists of person names (ListA and ListB) and gives as a result a list of possible candidates with scores.\n",
    "\n",
    "This script is written by Liliana Melgar-Estrada for the SKILLNET PROJECT (https://skillnet.nl/)\n",
    "\n",
    "Last update: June 17, 2022"
   ]
  },
  {
   "cell_type": "markdown",
   "metadata": {},
   "source": [
    "# Data preparation (externally, before importing)"
   ]
  },
  {
   "cell_type": "markdown",
   "metadata": {},
   "source": [
    "The script works with two lists of person names which contain basic colums: \n",
    "- personId: this can be any Id used in List A or List B\n",
    "- Name string: this is the name of the person without any dates, roles, or alternative names in it\n",
    "- Date of birth: in the form YYYY is the year in which the person was born. If uncertain, don't add any marks here, that can be done in a separate column\n",
    "- Date of death: same as with the date of birth \n",
    "- Date of flourish (floriat or fl.): also in the form YYYY, it is the year in which a person is known to be active or alive\n",
    "- Any other addidional columns useful for dissambiguation can be added, e.g., occupations, but these have to be added manually to the script below.\n",
    "\n",
    "Important to take into account:\n",
    "- Any notes or clarifications about dates or names, uncertainty notes, alternative names, roles, etc., should be added in a separated column(s).\n",
    "- If a person has both date of birth and date of death, it is NOT necessary to add a floriat date, if added, the names that have them will be ignored in the script below!\n",
    "\n",
    "If the person names are part of a file that is in the \"letter\" format (i.e., senders are in one column and receivers are in another column) use the other notebook: \"Wp02_MappingPersonNames2_LetterFormat_WithCorrespondents.ipynb\"."
   ]
  },
  {
   "cell_type": "markdown",
   "metadata": {},
   "source": [
    "# Import libraries"
   ]
  },
  {
   "cell_type": "code",
   "execution_count": null,
   "metadata": {},
   "outputs": [],
   "source": [
    "import matplotlib\n",
    "import pandas as pd\n",
    "import numpy as np\n",
    "import re\n",
    "import fuzzywuzzy\n",
    "from fuzzywuzzy import fuzz\n",
    "from fuzzywuzzy import process\n",
    "# import jellyfish\n",
    "\n",
    "from IPython.display import display\n",
    "from IPython.display import clear_output\n",
    "\n",
    "import csv\n",
    "\n",
    "from IPython.display import display, HTML\n",
    "# display(HTML(\"<style>.container { width:95% !important; }</style>\"))\n",
    "# pd.options.display.max_columns = 10\n",
    "pd.options.display.max_rows = 1000\n",
    "# pd.options.display.width = 1000\n",
    "\n",
    "# to add timestamp to file names\n",
    "import time\n",
    "\n",
    "# for progress bar (https://datascientyst.com/progress-bars-pandas-python-tqdm/)\n",
    "from tqdm import tqdm\n",
    "from time import sleep"
   ]
  },
  {
   "cell_type": "markdown",
   "metadata": {},
   "source": [
    "# Import files"
   ]
  },
  {
   "cell_type": "code",
   "execution_count": null,
   "metadata": {},
   "outputs": [],
   "source": [
    "# Test data is located in the repository folder indicated in the path here\n",
    "# this is the local path to the raw data in your own computer to where you downloaded/cloned the repository\n",
    "pathRawDataFolder = f'/Users/Melga001/stack/workspace/SKILLNET-PRODUCTION/_sharedRepositoriesGithub/mappingPersonNames/data/raw/'"
   ]
  },
  {
   "cell_type": "markdown",
   "metadata": {},
   "source": [
    "## Import ListA"
   ]
  },
  {
   "cell_type": "markdown",
   "metadata": {},
   "source": [
    "For the test version, ListA contains unique names from the Catalogus Epistolarum Neerlandicarum (CEN) extracted from a slice of correspondents from van Leeuwenhoek and Swammerdam (internal note: cy08)."
   ]
  },
  {
   "cell_type": "code",
   "execution_count": null,
   "metadata": {},
   "outputs": [],
   "source": [
    "# Import here the first file (ListA), this is the names you want to map the other list to.\n",
    "# the list is imported as a pandas dataframe\n",
    "dfA_t0 = pd.read_csv(f\"{pathRawDataFolder}ListA.csv\", sep = \",\", index_col=False, engine='python')"
   ]
  },
  {
   "cell_type": "code",
   "execution_count": null,
   "metadata": {},
   "outputs": [],
   "source": [
    "dfA_t0.info()"
   ]
  },
  {
   "cell_type": "markdown",
   "metadata": {},
   "source": [
    "## Import list to map to (LIST B)"
   ]
  },
  {
   "cell_type": "markdown",
   "metadata": {},
   "source": [
    "For the test version, ListB contains unique names from the Epistolarium (http://ckcc.huygens.knaw.nl/epistolarium/)  (internal note: cy13)."
   ]
  },
  {
   "cell_type": "code",
   "execution_count": null,
   "metadata": {},
   "outputs": [],
   "source": [
    "# Import here the second file (ListB), these are the names you want to map (find a match) to the initial list.\n",
    "# the list is imported as a pandas dataframe\n",
    "dfB_t0 = pd.read_csv(f\"{pathRawDataFolder}ListB.csv\", sep = \",\", index_col=False, engine='python')"
   ]
  },
  {
   "cell_type": "code",
   "execution_count": null,
   "metadata": {},
   "outputs": [],
   "source": [
    "dfB_t0.info()"
   ]
  },
  {
   "cell_type": "markdown",
   "metadata": {},
   "source": [
    "# Prepare ListA and ListB"
   ]
  },
  {
   "cell_type": "markdown",
   "metadata": {},
   "source": [
    "In this step the data is prepared for the mappings (reassigning column names and changing data types in case they were not the right ones)"
   ]
  },
  {
   "cell_type": "markdown",
   "metadata": {},
   "source": [
    "## Prepare ListA"
   ]
  },
  {
   "cell_type": "code",
   "execution_count": null,
   "metadata": {},
   "outputs": [],
   "source": [
    "# assign column names\n",
    "dfA_t0.columns = ['personIdA',\n",
    "                   'nameStringA',\n",
    "                   'dateBirthA', \n",
    "                   'dateDeathA', \n",
    "                   'dateFlA'\n",
    "                   ]"
   ]
  },
  {
   "cell_type": "code",
   "execution_count": null,
   "metadata": {},
   "outputs": [],
   "source": [
    "# make a copy of the dataframe and rename it\n",
    "dfA = dfA_t0.reset_index(drop=True)"
   ]
  },
  {
   "cell_type": "code",
   "execution_count": null,
   "metadata": {},
   "outputs": [],
   "source": [
    "# convert datatypes and fill in empty values\n",
    "dfA_columns = dfA.columns\n",
    "for column in dfA_columns:\n",
    "    dataType = dfA.dtypes[column]\n",
    "    if dataType == np.float64:\n",
    "        dfA[column] = dfA[column].fillna(0.0)\n",
    "        dfA[column] = dfA[column].astype(int)\n",
    "    if dataType == object:\n",
    "        dfA[column] = dfA[column].fillna('null')\n",
    "        dfA[column] = dfA[column].astype(str)"
   ]
  },
  {
   "cell_type": "code",
   "execution_count": null,
   "metadata": {},
   "outputs": [],
   "source": [
    "dfA.info()"
   ]
  },
  {
   "cell_type": "code",
   "execution_count": null,
   "metadata": {},
   "outputs": [],
   "source": [
    "dfA.head(10)"
   ]
  },
  {
   "cell_type": "markdown",
   "metadata": {},
   "source": [
    "## Prepare ListB"
   ]
  },
  {
   "cell_type": "code",
   "execution_count": null,
   "metadata": {},
   "outputs": [],
   "source": [
    "# assign column names\n",
    "dfB_t0.columns = [\n",
    "                   'personIdB',\n",
    "                   'nameStringB', \n",
    "                   'dateBirthB', \n",
    "                   'dateDeathB', \n",
    "                   'dateFlB',\n",
    "                   ]"
   ]
  },
  {
   "cell_type": "code",
   "execution_count": null,
   "metadata": {},
   "outputs": [],
   "source": [
    "# make a copy of the dataframe and rename it\n",
    "dfB = dfB_t0.reset_index(drop=True).copy()"
   ]
  },
  {
   "cell_type": "code",
   "execution_count": null,
   "metadata": {},
   "outputs": [],
   "source": [
    "# convert datatypes and fill in empty values\n",
    "dfB_columns = dfB.columns\n",
    "for column in dfB_columns:\n",
    "    dataType = dfB.dtypes[column]\n",
    "    if dataType == np.float64:\n",
    "        dfB[column] = dfB[column].fillna(0.0)\n",
    "        dfB[column] = dfB[column].astype(int)\n",
    "    if dataType == object:\n",
    "        dfB[column] = dfB[column].fillna('null')\n",
    "        dfB[column] = dfB[column].astype(str)"
   ]
  },
  {
   "cell_type": "code",
   "execution_count": null,
   "metadata": {},
   "outputs": [],
   "source": [
    "dfB.info()"
   ]
  },
  {
   "cell_type": "code",
   "execution_count": null,
   "metadata": {},
   "outputs": [],
   "source": [
    "dfB.head(10)"
   ]
  },
  {
   "cell_type": "markdown",
   "metadata": {},
   "source": [
    "## Store listA and listB for future reference"
   ]
  },
  {
   "cell_type": "code",
   "execution_count": null,
   "metadata": {},
   "outputs": [],
   "source": [
    "# this is the local path to the temporary data in your own computer to where you downloaded/cloned the repository\n",
    "pathTempDataFolder = f'/Users/Melga001/stack/workspace/SKILLNET-PRODUCTION/_sharedRepositoriesGithub/mappingPersonNames/data/temp/'"
   ]
  },
  {
   "cell_type": "code",
   "execution_count": null,
   "metadata": {},
   "outputs": [],
   "source": [
    "# this inserts the timestamp in the file name\n",
    "timestr = time.strftime(\"%Y%m%d-%H%M%S\")\n",
    "\n",
    "fileListA = (f\"{pathTempDataFolder}ListA_{timestr}.csv\")\n",
    "dfA.to_csv(fileListA)\n",
    "\n",
    "fileListB = (f\"{pathTempDataFolder}ListB_{timestr}.csv\")\n",
    "dfB.to_csv(fileListB)"
   ]
  },
  {
   "cell_type": "markdown",
   "metadata": {},
   "source": [
    "## Create a dataframe to store the mappings"
   ]
  },
  {
   "cell_type": "code",
   "execution_count": null,
   "metadata": {},
   "outputs": [],
   "source": [
    "dfC = pd.DataFrame()"
   ]
  },
  {
   "cell_type": "markdown",
   "metadata": {},
   "source": [
    "# Run mapping script"
   ]
  },
  {
   "cell_type": "markdown",
   "metadata": {},
   "source": [
    "Here below there is the mapping script that will compare the names in listB with the names in listA checkign if the name string matches and, if so, it applies some rules to determine if the respective dates of birth/death/fl. have a logical relation. If so, a mapping candidate is added to the dataframe C.\n",
    "\n",
    "This script is also stored separately here: \n",
    "\n",
    "The counter shows:\n",
    "|percentage done|items processed/total items \\[time passed < time left, number of iterations per second\\]"
   ]
  },
  {
   "cell_type": "code",
   "execution_count": null,
   "metadata": {},
   "outputs": [],
   "source": []
  },
  {
   "cell_type": "code",
   "execution_count": null,
   "metadata": {},
   "outputs": [],
   "source": [
    "##### PASTE HERE THE SCRIPT AVAILABLE IN THIS PATH: \n",
    "### {your path to repository}/mappingPersonNames/src/personMappingScript-v44-20220620.py"
   ]
  },
  {
   "cell_type": "code",
   "execution_count": null,
   "metadata": {},
   "outputs": [],
   "source": []
  },
  {
   "cell_type": "code",
   "execution_count": null,
   "metadata": {},
   "outputs": [],
   "source": [
    "dfC.info()"
   ]
  },
  {
   "cell_type": "code",
   "execution_count": null,
   "metadata": {},
   "outputs": [],
   "source": [
    "dfC.head(5)"
   ]
  },
  {
   "cell_type": "code",
   "execution_count": null,
   "metadata": {},
   "outputs": [],
   "source": [
    "# test = dfC[dfC.scoreCase.str.contains('L-')]"
   ]
  },
  {
   "cell_type": "code",
   "execution_count": null,
   "metadata": {},
   "outputs": [],
   "source": [
    "# test"
   ]
  },
  {
   "cell_type": "code",
   "execution_count": null,
   "metadata": {},
   "outputs": [],
   "source": [
    "dfC.scoreCase.value_counts()"
   ]
  },
  {
   "cell_type": "markdown",
   "metadata": {},
   "source": [
    "# Prepare mapping output for analysis"
   ]
  },
  {
   "cell_type": "markdown",
   "metadata": {},
   "source": [
    "#### Replace the .0 in person dates and convert to strings"
   ]
  },
  {
   "cell_type": "code",
   "execution_count": null,
   "metadata": {},
   "outputs": [],
   "source": [
    "\n",
    "dfC['dateBirthA'] = dfC['dateBirthA'].astype(str).replace('\\.0', '', regex=True)\n",
    "dfC['dateDeathA'] = dfC['dateDeathA'].astype(str).replace('\\.0', '', regex=True)\n",
    "dfC['dateFlA'] = dfC['dateFlA'].astype(str).replace('\\.0', '', regex=True)\n",
    "dfC['match_dateBirthB'] = dfC['match_dateBirthB'].astype(str).replace('\\.0', '', regex=True)\n",
    "dfC['match_dateDeathB'] = dfC['match_dateDeathB'].astype(str).replace('\\.0', '', regex=True)\n",
    "dfC['match_dateFlB'] = dfC['match_dateFlB'].astype(str).replace('\\.0', '', regex=True)\n"
   ]
  },
  {
   "cell_type": "code",
   "execution_count": null,
   "metadata": {},
   "outputs": [],
   "source": [
    "dfC.info()"
   ]
  },
  {
   "cell_type": "markdown",
   "metadata": {},
   "source": [
    "#### Create joined / unique names and fill the blanks"
   ]
  },
  {
   "cell_type": "code",
   "execution_count": null,
   "metadata": {},
   "outputs": [],
   "source": [
    "dfC['JoinedInitial'] = dfC['nameStringA'] + '^' + dfC['dateBirthA'] + '^' + dfC['dateDeathA'] + '^' + dfC['dateFlA']\n",
    "dfC['JoinedMapped'] = dfC['match_nameStringB'] + '^' + dfC['match_dateBirthB']  + '^' + dfC['match_dateDeathB'] + '^' + dfC['match_dateFlB']\n",
    "\n",
    "# Fill in blanks\n",
    "dfC['JoinedMapped'] = dfC['JoinedMapped'].fillna('notmapped')"
   ]
  },
  {
   "cell_type": "code",
   "execution_count": null,
   "metadata": {},
   "outputs": [],
   "source": [
    "dfC.head(5)"
   ]
  },
  {
   "cell_type": "code",
   "execution_count": null,
   "metadata": {},
   "outputs": [],
   "source": [
    "# dfC.info()"
   ]
  },
  {
   "cell_type": "markdown",
   "metadata": {},
   "source": [
    "#### Run the second script to detect variation in the mapped forms"
   ]
  },
  {
   "cell_type": "code",
   "execution_count": null,
   "metadata": {},
   "outputs": [],
   "source": [
    "# Convert these joined names to strings\n",
    "dfC['JoinedInitial'] = dfC['JoinedInitial'].astype('string')\n",
    "dfC['JoinedMapped'] = dfC['JoinedMapped'].astype('string')"
   ]
  },
  {
   "cell_type": "code",
   "execution_count": null,
   "metadata": {},
   "outputs": [],
   "source": [
    "dfC.info()"
   ]
  },
  {
   "cell_type": "code",
   "execution_count": null,
   "metadata": {},
   "outputs": [],
   "source": [
    "# create a score to determine how much the initial and the map form of the name (including dates) varies\n",
    "for j in dfC.index:\n",
    "    clear_output(wait=True)\n",
    "    rowIndex = dfC.index[j]\n",
    "    initialForm = dfC.iloc[j,13]\n",
    "    mappedForm = dfC.iloc[j,14]\n",
    "    matchScoreFinal = fuzz.ratio(initialForm, mappedForm)\n",
    "    print(\"Current progress loop1:\", np.round(j/len(dfC) *100, 2),\"%\")\n",
    "    if 0 <= matchScoreFinal <=100:\n",
    "        dfC.loc[rowIndex, 'ScoreMappedVersionsNotChangedis100'] = matchScoreFinal        "
   ]
  },
  {
   "cell_type": "code",
   "execution_count": null,
   "metadata": {},
   "outputs": [],
   "source": [
    "# dfC"
   ]
  },
  {
   "cell_type": "code",
   "execution_count": null,
   "metadata": {},
   "outputs": [],
   "source": [
    "dfC.columns"
   ]
  },
  {
   "cell_type": "code",
   "execution_count": null,
   "metadata": {},
   "outputs": [],
   "source": [
    "# Reorder the columns in a way that is easier to evaluate mapping\n",
    "\n",
    "dfD = dfC[['JoinedInitial',\n",
    "        'JoinedMapped',\n",
    "        'personIdA',\n",
    "        'match_personIdB',\n",
    "        'scoreCase',\n",
    "        'scoreType',\n",
    "        'scoreNameString',\n",
    "        'ScoreMappedVersionsNotChangedis100']]\n"
   ]
  },
  {
   "cell_type": "code",
   "execution_count": null,
   "metadata": {},
   "outputs": [],
   "source": [
    "dfD.info()"
   ]
  },
  {
   "cell_type": "code",
   "execution_count": null,
   "metadata": {},
   "outputs": [],
   "source": [
    "dfD.scoreCase.value_counts()"
   ]
  },
  {
   "cell_type": "markdown",
   "metadata": {},
   "source": [
    "# Download the mapping candidates file"
   ]
  },
  {
   "cell_type": "code",
   "execution_count": null,
   "metadata": {},
   "outputs": [],
   "source": [
    "# This file will contain the mapping candidates, which is easier to evaluate externally, e.g., in OpenRefine\n",
    "\n",
    "# this is the local path to the processed data in your own computer where this file will be stored\n",
    "pathProcDataFolder = f'/Users/Melga001/stack/workspace/SKILLNET-PRODUCTION/_sharedRepositoriesGithub/mappingPersonNames/data/processed/'\n",
    "\n",
    "datasetA = 'ListA' #change list name if wanted\n",
    "datasetB = 'ListB' #change list name if wanted\n",
    "description = '' #add file description if wanted\n",
    "\n",
    "#####bring back dfD\n",
    "timestr = time.strftime(\"%Y%m%d-%H%M%S\")\n",
    "fileNameMappingCandidates = (f\"{pathProcDataFolder}MappingsPersonsCandidates_{datasetA}vs{datasetB}_{description}_{timestr}.csv\")\n",
    "dfD.to_csv(fileNameMappingCandidates)"
   ]
  },
  {
   "cell_type": "code",
   "execution_count": null,
   "metadata": {},
   "outputs": [],
   "source": []
  }
 ],
 "metadata": {
  "kernelspec": {
   "display_name": "Python 3 (ipykernel)",
   "language": "python",
   "name": "python3"
  },
  "language_info": {
   "codemirror_mode": {
    "name": "ipython",
    "version": 3
   },
   "file_extension": ".py",
   "mimetype": "text/x-python",
   "name": "python",
   "nbconvert_exporter": "python",
   "pygments_lexer": "ipython3",
   "version": "3.9.7"
  },
  "toc": {
   "base_numbering": 1,
   "nav_menu": {},
   "number_sections": true,
   "sideBar": true,
   "skip_h1_title": false,
   "title_cell": "Table of Contents",
   "title_sidebar": "Contents",
   "toc_cell": false,
   "toc_position": {
    "height": "calc(100% - 180px)",
    "left": "10px",
    "top": "150px",
    "width": "300px"
   },
   "toc_section_display": true,
   "toc_window_display": true
  }
 },
 "nbformat": 4,
 "nbformat_minor": 4
}
